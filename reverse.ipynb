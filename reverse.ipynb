{
 "cells": [
  {
   "outputs": [
    {
     "name": "stdout",
     "output_type": "stream",
     "text": [
      "  Updating registry at `~/.julia/registries/General`\n",
      "  Updating git-repo `git@github.com:JuliaRegistries/General.git`\n",
      "\u001b[?25l\u001b[2K\u001b[?25h"
     ]
    }
   ],
   "cell_type": "code",
   "source": [
    "using Pkg; Pkg.activate(\".\"); Pkg.instantiate()"
   ],
   "metadata": {},
   "execution_count": 1
  },
  {
   "outputs": [],
   "cell_type": "code",
   "source": [
    "include(\"utils.jl\");"
   ],
   "metadata": {},
   "execution_count": 2
  },
  {
   "outputs": [],
   "cell_type": "markdown",
   "source": [
    "Source to Source Reverse Mode\n",
    "=============================\n",
    "\n",
    "[Forward mode](./forward.ipynb) works well because all of the symbolic\n",
    "operations happen at Julia's compile time; Julia can then optimise the\n",
    "resulting program (say, by applying SIMD instructions) and we get very fast\n",
    "derivative code. Although we can differentiate Julia code by [compiling it to\n",
    "a Wengert list](./tracing.ipynb), we'd be much better off if we could handle\n",
    "Julia code directly; then reverse mode can benefit from these optimisations\n",
    "too.\n",
    "\n",
    "However, Julia code is much more complex than a Wengert list, with constructs\n",
    "like control flow, data structures and function calls. To do this we'll have\n",
    "to handle each of these things in turn.\n",
    "\n",
    "The first thing to realise is that Julia code is much closer to a Wengert list\n",
    "than it looks. Despite its rich syntax, the compiler works with a Wengert-like\n",
    "format. The analyses and optimisations that compilers already carry out also\n",
    "benefit from this easily-work-with structure."
   ],
   "metadata": {}
  },
  {
   "outputs": [
    {
     "output_type": "execute_result",
     "data": {
      "text/plain": "CodeInfo(\n\u001b[90m1 ─\u001b[39m %1 = (Base.mul_float)(x, x)\u001b[36m::Float64\u001b[39m\n\u001b[90m│  \u001b[39m %2 = (Base.add_float)(1.0, %1)\u001b[36m::Float64\u001b[39m\n\u001b[90m│  \u001b[39m %3 = (Base.div_float)(x, %2)\u001b[36m::Float64\u001b[39m\n\u001b[90m└──\u001b[39m      return %3\n) => Float64"
     },
     "metadata": {},
     "execution_count": 3
    }
   ],
   "cell_type": "code",
   "source": [
    "f(x) = x / (1 + x^2)\n",
    "\n",
    "@code_typed f(1.0)"
   ],
   "metadata": {},
   "execution_count": 3
  },
  {
   "outputs": [],
   "cell_type": "markdown",
   "source": [
    "Code with control flow is pnly a little different. We add `goto` statements\n",
    "and a construct called the \"phi function\"; the result is called [SSA\n",
    "form](https://en.wikipedia.org/wiki/Static_single_assignment_form)."
   ],
   "metadata": {}
  },
  {
   "outputs": [
    {
     "output_type": "execute_result",
     "data": {
      "text/plain": "CodeInfo(\n\u001b[90m1 ─\u001b[39m      nothing\u001b[90m::Nothing\u001b[39m\n\u001b[90m2 ┄\u001b[39m %2 = φ (#1 => 1, #3 => %7)\u001b[36m::Int64\u001b[39m\n\u001b[90m│  \u001b[39m %3 = φ (#1 => _3, #3 => %6)\u001b[36m::Int64\u001b[39m\n\u001b[90m│  \u001b[39m %4 = (Base.slt_int)(0, %3)\u001b[36m::Bool\u001b[39m\n\u001b[90m└──\u001b[39m      goto #4 if not %4\n\u001b[90m3 ─\u001b[39m %6 = (Base.sub_int)(%3, 1)\u001b[36m::Int64\u001b[39m\n\u001b[90m│  \u001b[39m %7 = (Base.mul_int)(%2, x)\u001b[36m::Int64\u001b[39m\n\u001b[90m└──\u001b[39m      goto #2\n\u001b[90m4 ─\u001b[39m      return %2\n) => Int64"
     },
     "metadata": {},
     "execution_count": 4
    }
   ],
   "cell_type": "code",
   "source": [
    "function pow(x, n)\n",
    "  r = 1\n",
    "  while n > 0\n",
    "    n -= 1\n",
    "    r *= x\n",
    "  end\n",
    "  return r\n",
    "end\n",
    "\n",
    "pow(2, 3)\n",
    "\n",
    "@code_typed pow(2, 3)"
   ],
   "metadata": {},
   "execution_count": 4
  },
  {
   "outputs": [],
   "cell_type": "markdown",
   "source": [
    "The details of this format are not too important. SSA form is powerful but\n",
    "somewhat fiddly to work with in practice, so the aim of this notebook is\n",
    "to give a broad intuition for how we handle this."
   ],
   "metadata": {}
  }
 ],
 "nbformat_minor": 3,
 "metadata": {
  "language_info": {
   "file_extension": ".jl",
   "mimetype": "application/julia",
   "name": "julia",
   "version": "1.2.0-DEV.177"
  },
  "kernelspec": {
   "name": "julia-1.2",
   "display_name": "Julia 1.2.0-DEV.177",
   "language": "julia"
  }
 },
 "nbformat": 4
}
