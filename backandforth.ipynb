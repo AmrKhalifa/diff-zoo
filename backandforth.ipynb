{
 "cells": [
  {
   "outputs": [
    {
     "name": "stdout",
     "output_type": "stream",
     "text": [
      "  Updating registry at `~/.julia/registries/General`\n",
      "  Updating git-repo `git@github.com:JuliaRegistries/General.git`\n",
      "\u001b[?25l\u001b[2K\u001b[?25h"
     ]
    }
   ],
   "cell_type": "code",
   "source": [
    "using Pkg; Pkg.activate(\".\"); Pkg.instantiate()"
   ],
   "metadata": {},
   "execution_count": 1
  },
  {
   "outputs": [],
   "cell_type": "markdown",
   "source": [
    "Forward- and Reverse-Mode Differentiation\n",
    "========================================="
   ],
   "metadata": {}
  },
  {
   "outputs": [],
   "cell_type": "code",
   "source": [
    "include(\"utils.jl\");"
   ],
   "metadata": {},
   "execution_count": 2
  },
  {
   "outputs": [],
   "cell_type": "markdown",
   "source": [
    "Differentiation tools are frequently described as implementing \"forward mode\"\n",
    "or \"reverse mode\" AD. This distinction was briefly covered in the intro\n",
    "notebook, but here we'll go into more detail. We'll start with an intuition\n",
    "for what the distinction *means* in terms of the differentiation process; then\n",
    "we'll discuss why it's an important consideration in practice."
   ],
   "metadata": {}
  },
  {
   "outputs": [],
   "cell_type": "markdown",
   "source": [
    "Consider a simple mathematical expression:"
   ],
   "metadata": {}
  },
  {
   "outputs": [
    {
     "output_type": "execute_result",
     "data": {
      "text/plain": ":(sin(x ^ 2) * 5)"
     },
     "metadata": {},
     "execution_count": 3
    }
   ],
   "cell_type": "code",
   "source": [
    "y = :(sin(x^2) * 5)"
   ],
   "metadata": {},
   "execution_count": 3
  },
  {
   "outputs": [],
   "cell_type": "markdown",
   "source": [
    "Written as a Wengert list:"
   ],
   "metadata": {}
  },
  {
   "outputs": [
    {
     "output_type": "execute_result",
     "data": {
      "text/plain": "Wengert List\ny1 = x ^ 2\ny2 = sin(y1)\ny3 = y2 * 5\n"
     },
     "metadata": {},
     "execution_count": 4
    }
   ],
   "cell_type": "code",
   "source": [
    "Wengert(y)"
   ],
   "metadata": {},
   "execution_count": 4
  },
  {
   "outputs": [],
   "cell_type": "markdown",
   "source": [
    "The ability to take derivatives mechanically relies on two things: Firstly, we\n",
    "know derivatives for each basic function in our program (e.g.\n",
    "$\\frac{dy_2}{dy_1}=cos(y_1)$). Secondly, we have a rule of composition called the\n",
    "*chain rule* which lets us compose these basic derivatives together.\n",
    "\n",
    "$$\n",
    "\\frac{dy}{dx} = \\frac{dy_1}{dx} \\times \\frac{dy_2}{dy_1} \\times \\frac{dy}{dy_2}\n",
    "$$\n",
    "\n",
    "More specifically:\n",
    "\n",
    "$$\n",
    "\\begin{align}\n",
    "\\frac{dy}{dx} &= 2x \\times cos(y_1) \\times 5 \\\\\n",
    "              &= 2x \\times cos(x^2) \\times 5\n",
    "\\end{align}\n",
    "$$\n",
    "\n",
    "The forward/reverse distinction basically amounts to: given that we do\n",
    "multiplications one at a time, do we evaluate $\\frac{dy_1}{dx} \\times\n",
    "\\frac{dy_2}{dy_1}$ first, or $\\frac{dy_2}{dy_1} \\times \\frac{dy}{dy_2}$? (This seems\n",
    "like a pointless question right now, given that either gets us the same\n",
    "results, but bear with me.)\n",
    "\n",
    "It's easier to see the distinction if we think algorithmically. Given some\n",
    "enormous Wengert list with $n$ instructions, we have two ways to differentiate\n",
    "it:\n",
    "\n",
    "**(1)**: Start with the known quantity $\\frac{dy_0}{dx} = \\frac{dx}{dx} = 1$\n",
    "at the beginning of the list. Look up the derivative for the next instruction\n",
    "$\\frac{dy_{i+1}}{dy_i}$ and multiply out the top, getting $\\frac{dy_1}{dx}$,\n",
    "$\\frac{dy_2}{dx}$, ... $\\frac{dy_{n-1}}{dx}$, $\\frac{dy}{dx}$. Because we\n",
    "walked forward over the Wengert list, this is called *forward mode*. Each\n",
    "intermediate derivative $\\frac{dy_i}{dx}$ is known as a *perturbation*.\n",
    "\n",
    "**(2)**: Start with the known quantity $\\frac{dy}{dy_n} = \\frac{dy}{dy} = 1$\n",
    "at the end of the list. Look up the derivative for the previous instruction\n",
    "$\\frac{dy_i}{dy_{i-1}}$ and multiply out the bottom, getting\n",
    "$\\frac{dy}{dy_n}$, $\\frac{dy}{dy_{n-1}}$, ... $\\frac{dy}{dy_1}$,\n",
    "$\\frac{dy}{dx}$. Because we walked in reverse over the Wengert list, this is\n",
    "called *reverse mode*. Each intermediate derivative $\\frac{dy}{dy_i}$ is known\n",
    "as a *sensitivity*.\n",
    "\n",
    "This all seems very academic, so we need to explain why it might make a\n",
    "difference to performance. I'll give two related explanations: dealing with\n",
    "mulitple variables, and working with vectors rather than scalars."
   ],
   "metadata": {}
  },
  {
   "outputs": [],
   "cell_type": "markdown",
   "source": [
    "Explanation 1: Multiple Variables\n",
    "---------------------------------\n",
    "\n",
    "So far we have dealt only with simple functions that take a number, and return\n",
    "a number. But more generally we'll deal with functions that take, or produce,\n",
    "multiple numbers of interest.\n",
    "\n",
    "For example what if we have a function that returns *two* numbers, and we want\n",
    "derivatives for both? Do we have to do the whole thing twice over?"
   ],
   "metadata": {}
  },
  {
   "outputs": [
    {
     "output_type": "execute_result",
     "data": {
      "text/plain": "quote\n    #= string:2 =#\n    y2 = sin(x ^ 2)\n    #= string:3 =#\n    y3 = y2 * 5\nend"
     },
     "metadata": {},
     "execution_count": 5
    }
   ],
   "cell_type": "code",
   "source": [
    "y = quote\n",
    "  y2 = sin(x^2)\n",
    "  y3 = y2 * 5\n",
    "end"
   ],
   "metadata": {},
   "execution_count": 5
  },
  {
   "outputs": [],
   "cell_type": "markdown",
   "source": [
    "Let's say we want both of the derivatives $\\frac{dy_2}{dx}$ and\n",
    "$\\frac{dy_3}{dx}$. You can probably see where this is going now; the Wengert\n",
    "list representation of this expression has not actually changed!"
   ],
   "metadata": {}
  },
  {
   "outputs": [
    {
     "output_type": "execute_result",
     "data": {
      "text/plain": "Wengert List\ny1 = x ^ 2\ny2 = sin(y1)\ny3 = y2 * 5\n"
     },
     "metadata": {},
     "execution_count": 6
    }
   ],
   "cell_type": "code",
   "source": [
    "Wengert(y)"
   ],
   "metadata": {},
   "execution_count": 6
  },
  {
   "outputs": [],
   "cell_type": "markdown",
   "source": [
    "Now, we discussed that when doing forward mode differentiation, we actually\n",
    "calculate *every* intermediate derivative $\\frac{dy_i}{dx}$, which means we get\n",
    "$\\frac{dy_2}{dx}$ for free. This property goes all the way back to our\n",
    "original, recursive formulation of differentiation, which calculated the\n",
    "derivatives of a complex expression by combining the derivatives of simpler\n",
    "ones."
   ],
   "metadata": {}
  },
  {
   "outputs": [
    {
     "output_type": "execute_result",
     "data": {
      "text/plain": "Wengert List\ny1 = x ^ 2\ny2 = sin(y1)\ny3 = y2 * 5\ny4 = x ^ 1\ny5 = 2 * y4\ny6 = cos(y1)\ny7 = y6 * y5\ny8 = 5 * y7\n"
     },
     "metadata": {},
     "execution_count": 7
    }
   ],
   "cell_type": "code",
   "source": [
    "derive(Wengert(y), :x)"
   ],
   "metadata": {},
   "execution_count": 7
  },
  {
   "outputs": [],
   "cell_type": "markdown",
   "source": [
    "In our output, $y_7 = \\frac{dy_2}{dx}$ and $y_8 = \\frac{dy_3}{dx}$.\n",
    "\n",
    "Let's consider the opposite situation, a function of two variables $a$ and\n",
    "$b$, where we'd like to get $\\frac{dy}{da}$ and $\\frac{dy}{db}$."
   ],
   "metadata": {}
  },
  {
   "outputs": [
    {
     "output_type": "execute_result",
     "data": {
      "text/plain": ":(sin(a) * b)"
     },
     "metadata": {},
     "execution_count": 8
    }
   ],
   "cell_type": "code",
   "source": [
    "y = :(sin(a) * b)"
   ],
   "metadata": {},
   "execution_count": 8
  },
  {
   "outputs": [
    {
     "output_type": "execute_result",
     "data": {
      "text/plain": "Wengert List\ny1 = sin(a)\ny2 = y1 * b\n"
     },
     "metadata": {},
     "execution_count": 9
    }
   ],
   "cell_type": "code",
   "source": [
    "Wengert(y)"
   ],
   "metadata": {},
   "execution_count": 9
  },
  {
   "outputs": [],
   "cell_type": "markdown",
   "source": [
    "This one is a bit tougher. We can start the forward-mode differentiation\n",
    "process with $\\frac{da}{da} = 1$ or with $\\frac{db}{db} = 1$, but if we want\n",
    "both we'll have to go through the entire multiplying-out process twice.\n",
    "\n",
    "But both variables ultimately end up at the same place, $y$, and we know that\n",
    "$\\frac{dy}{dy} = 1$. Aha, so perhaps we can use reverse mode for this\n",
    "instead!\n",
    "\n",
    "Exactly opposite to forward mode, reverse mode gives us every intermediate\n",
    "gradient $\\frac{dy_i}{dy}$ for free, ultimately leading back in the inputs\n",
    "$\\frac{da}{dy}$ and $\\frac{db}{dy}$.\n",
    "\n",
    "It's easy to see, then, why reverse-mode differentiation – or backpropagation\n",
    "– is so effective for machine learning. In general we have a large computation\n",
    "with millions of parameters, yet only a single scalar loss to optimise. We can\n",
    "get gradients even for these millions of inputs in a single pass, enabling ML\n",
    "to scale to complex tasks like image and voice recognition."
   ],
   "metadata": {}
  },
  {
   "outputs": [],
   "cell_type": "markdown",
   "source": [
    "Explanation 2: Vector Calculus\n",
    "------------------------------\n",
    "\n",
    "So far we have dealt only with simple functions that take a number, and return\n",
    "a number. But more generally we'll deal with functions that take, or produce,\n",
    "*vectors* containing multiple numbers of interest.\n",
    "\n",
    "It's useful to consider how our idea of differentiation works when we have\n",
    "vectors. For example, a function that takes a vector of length $2$ to another\n",
    "vector of length $2$:"
   ],
   "metadata": {}
  },
  {
   "outputs": [
    {
     "output_type": "execute_result",
     "data": {
      "text/plain": "2-element Array{Float64,1}:\n  6.0               \n -0.4161468365471424"
     },
     "metadata": {},
     "execution_count": 10
    }
   ],
   "cell_type": "code",
   "source": [
    "f(x) = [x[1] * x[2], cos(x[1])]\n",
    "\n",
    "x = [2, 3]\n",
    "y = f(x)"
   ],
   "metadata": {},
   "execution_count": 10
  },
  {
   "outputs": [],
   "cell_type": "markdown",
   "source": [
    "We now need to talk about what we mean by $\\frac{d}{dx}f(x)$, given that we\n",
    "can't apply the usual limit rule. What we *can* do is take the derivative of\n",
    "any scalar *element* of $y$ with respect to any element of $x$. (We'll use\n",
    "subscripts $x_n$ to refer to the $n^{th}$ index of $x$.) For example:\n",
    "\n",
    "$$\n",
    "\\begin{align}\n",
    "\\frac{dy_1}{dx_1} &= \\frac{d}{dx_1} x_1 \\times x_2 = x_2 \\\\\n",
    "\\frac{dy_1}{dx_2} &= \\frac{d}{dx_2} x_1 \\times x_2 = x_1 \\\\\n",
    "\\frac{dy_2}{dx_1} &= \\frac{d}{dx_1} \\cos(x_1) = \\sin(x_1) \\\\\n",
    "\\frac{dy_2}{dx_2} &= \\frac{d}{dx_2} \\cos(x_1) = 0 \\\\\n",
    "\\end{align}\n",
    "$$\n",
    "\n",
    "It's a little easier if we organise all of these derivatives into a matrix.\n",
    "\n",
    "$$\n",
    "J_{ij} = \\frac{dy_i}{dx_j}\n",
    "$$\n",
    "\n",
    "This $2\\times2$ matrix is called the *Jacobian*, and in general it's what we mean by\n",
    "$\\frac{dy}{dx}$. (The Jacobian for a scalar function like $y = \\sin(x)$ only\n",
    "has one element, so it's consistent with our current idea of the derivative\n",
    "$\\frac{dy}{dx}$.) The key point here is that the Jacobian is a potentially\n",
    "large object: it has a size `length(y) * length(x)`. Now, we discussed that\n",
    "the distinction between forward and reverse mode is whether we propagate\n",
    "$\\frac{dy_i}{dx}$ or $\\frac{dy}{dy_i}$, which can have a size of either\n",
    "`length(y_i) * length(x)` or `length(y) * length(y_i)`.\n",
    "\n",
    "It should be clear, then, what mode is better if we have a gazillion inputs\n",
    "and one output. In forward mode we need to carry around a gazillion\n",
    "\"perturbations\" *for each* element of $y_i$, whereas in reverse we only need a\n",
    "gradient of the same size of $x$. And vice versa."
   ],
   "metadata": {}
  }
 ],
 "nbformat_minor": 3,
 "metadata": {
  "language_info": {
   "file_extension": ".jl",
   "mimetype": "application/julia",
   "name": "julia",
   "version": "1.2.0-DEV.177"
  },
  "kernelspec": {
   "name": "julia-1.2",
   "display_name": "Julia 1.2.0-DEV.177",
   "language": "julia"
  }
 },
 "nbformat": 4
}
